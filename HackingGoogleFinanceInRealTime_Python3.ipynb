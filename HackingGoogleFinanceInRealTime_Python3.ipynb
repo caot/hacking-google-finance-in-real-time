{
 "cells": [
  {
   "cell_type": "code",
   "execution_count": 1,
   "metadata": {
    "collapsed": true
   },
   "outputs": [],
   "source": [
    "# Hacking Google Finance in Real-Time for Algorithmic Traders\n",
    "# \n",
    "# (c) 2014 QuantAtRisk.com, by Pawel Lachowicz\n",
    "# Python-3 version --- urllib.request used instead of urllib2\n",
    "# Link to related article:\n",
    "# http://www.quantatrisk.com/2014/01/14/hacking-google-finance-in-real-time-for-algorithmic-traders/\n",
    "\n",
    "import urllib.request, time, os, re, csv"
   ]
  },
  {
   "cell_type": "code",
   "execution_count": 2,
   "metadata": {
    "collapsed": true
   },
   "outputs": [],
   "source": [
    "def fetchGF(googleticker):\n",
    "    url = \"http://www.google.com/finance?&q=\"\n",
    "    req = urllib.request.Request(url + googleticker)\n",
    "    resp = urllib.request.urlopen(req)\n",
    "    respData = resp.read()\n",
    "    k=re.search(b'id=\"ref_(.*?)\">(.*?)<', respData)\n",
    "    if k:\n",
    "        tmp=k.group(2)\n",
    "        q=tmp.decode().replace(',','')\n",
    "    else:\n",
    "        q=\"Nothing found for: \"+googleticker\n",
    "    return q"
   ]
  },
  {
   "cell_type": "code",
   "execution_count": 5,
   "metadata": {
    "collapsed": false
   },
   "outputs": [
    {
     "name": "stdout",
     "output_type": "stream",
     "text": [
      "Thu May 14 08:58:25 2015\n",
      "\n",
      "Thu May 14 08:58:25 2015\n",
      "\n"
     ]
    }
   ],
   "source": [
    "# display time corresponding to your location\n",
    "print(time.ctime())\n",
    "print()\n",
    " \n",
    "# Set local time zone to NYC\n",
    "os.environ['TZ']='America/New_York'\n",
    "time.tzset()\n",
    "t=time.localtime() # string\n",
    "print(time.ctime())\n",
    "print()"
   ]
  },
  {
   "cell_type": "code",
   "execution_count": 6,
   "metadata": {
    "collapsed": true
   },
   "outputs": [],
   "source": [
    "def combine(ticker):\n",
    "    quote=fetchGF(ticker) # use the core-engine function\n",
    "    t=time.localtime()    # grasp the moment of time\n",
    "    output=[t.tm_year,t.tm_mon,t.tm_mday,t.tm_hour,  # build a list\n",
    "            t.tm_min,t.tm_sec,ticker,quote]\n",
    "    return output"
   ]
  },
  {
   "cell_type": "code",
   "execution_count": 7,
   "metadata": {
    "collapsed": true
   },
   "outputs": [],
   "source": [
    "ticker=\"NASDAQ:AAPL\""
   ]
  },
  {
   "cell_type": "code",
   "execution_count": 8,
   "metadata": {
    "collapsed": false
   },
   "outputs": [],
   "source": [
    "# define file name of the output record\n",
    "fname=\"aapl.dat\"\n",
    "# remove a file, if exist\n",
    "os.path.exists(fname) and os.remove(fname)"
   ]
  },
  {
   "cell_type": "code",
   "execution_count": null,
   "metadata": {
    "collapsed": false,
    "scrolled": true
   },
   "outputs": [
    {
     "name": "stdout",
     "output_type": "stream",
     "text": [
      "[2015, 5, 14, 8, 58, 30, 'NASDAQ:AAPL', '4378.31']\n",
      "[2015, 5, 14, 9, 8, 30, 'NASDAQ:GOOG', '4378.31']\n",
      "[2015, 5, 14, 9, 18, 31, 'NASDAQ:BIDU', '4378.31']\n",
      "[2015, 5, 14, 9, 28, 31, 'NYSE:IBM', '4378.31']\n",
      "[2015, 5, 14, 9, 38, 32, 'NASDAQ:INTC', '4378.31']"
     ]
    }
   ],
   "source": [
    "# To test, set the hour and minutes according to the above printed\n",
    "# time in New York so you can capture 2 or 3 values before the loop\n",
    "# stops\n",
    "\n",
    "freq=600 # fetch data every 600 sec (10 min)\n",
    "\n",
    "tickers=[\"NASDAQ:AAPL\",\"NASDAQ:GOOG\",\"NASDAQ:BIDU\",\"NYSE:IBM\", \\\n",
    "         \"NASDAQ:INTC\",\"NASDAQ:MSFT\",\"NYSEARCA:SPY\"]\n",
    " \n",
    "with open(fname,'a') as f:\n",
    "    writer = csv.writer(f,dialect=\"excel\") #,delimiter=\" \")\n",
    "    while(t.tm_hour <= 9):\n",
    "        if(t.tm_hour == 9):\n",
    "            while(t.tm_min < 31):\n",
    "                data = combine(ticker)\n",
    "                print(data)\n",
    "                writer.writerow(data) # save data in the file\n",
    "                time.sleep(freq)\n",
    "            else:break\n",
    "        else:\n",
    "            for ticker in tickers:\n",
    "                data=combine(ticker)\n",
    "                print(data)\n",
    "                writer.writerow(data) # save data in the file\n",
    "                time.sleep(freq)\n",
    "f.close()\n",
    "print(str(t.tm_hour) + \":\" + str(t.tm_min))"
   ]
  },
  {
   "cell_type": "code",
   "execution_count": null,
   "metadata": {
    "collapsed": true
   },
   "outputs": [],
   "source": []
  }
 ],
 "metadata": {
  "kernelspec": {
   "display_name": "Python 3",
   "language": "python",
   "name": "python3"
  },
  "language_info": {
   "codemirror_mode": {
    "name": "ipython",
    "version": 3
   },
   "file_extension": ".py",
   "mimetype": "text/x-python",
   "name": "python",
   "nbconvert_exporter": "python",
   "pygments_lexer": "ipython3",
   "version": "3.4.3"
  }
 },
 "nbformat": 4,
 "nbformat_minor": 0
}
